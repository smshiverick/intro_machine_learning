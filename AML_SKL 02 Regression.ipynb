{
 "cells": [
  {
   "cell_type": "markdown",
   "metadata": {},
   "source": [
    "## Advanced Machine Learning - Scikit Learn \n",
    "### with Adreas Mueller\n",
    "\n",
    "## Regression\n",
    "* Import packages"
   ]
  },
  {
   "cell_type": "code",
   "execution_count": 1,
   "metadata": {
    "collapsed": true
   },
   "outputs": [],
   "source": [
    "import matplotlib.pyplot as plt\n",
    "import numpy as np\n",
    "%matplotlib inline"
   ]
  },
  {
   "cell_type": "markdown",
   "metadata": {},
   "source": [
    "#### Load Boston Housing dataset"
   ]
  },
  {
   "cell_type": "code",
   "execution_count": 2,
   "metadata": {},
   "outputs": [
    {
     "data": {
      "text/plain": [
       "dict_keys(['data', 'target', 'feature_names', 'DESCR'])"
      ]
     },
     "execution_count": 2,
     "metadata": {},
     "output_type": "execute_result"
    }
   ],
   "source": [
    "from sklearn.datasets import load_boston\n",
    "boston = load_boston()\n",
    "boston.keys()"
   ]
  },
  {
   "cell_type": "code",
   "execution_count": 3,
   "metadata": {},
   "outputs": [
    {
     "name": "stdout",
     "output_type": "stream",
     "text": [
      "Boston House Prices dataset\n",
      "===========================\n",
      "\n",
      "Notes\n",
      "------\n",
      "Data Set Characteristics:  \n",
      "\n",
      "    :Number of Instances: 506 \n",
      "\n",
      "    :Number of Attributes: 13 numeric/categorical predictive\n",
      "    \n",
      "    :Median Value (attribute 14) is usually the target\n",
      "\n",
      "    :Attribute Information (in order):\n",
      "        - CRIM     per capita crime rate by town\n",
      "        - ZN       proportion of residential land zoned for lots over 25,000 sq.ft.\n",
      "        - INDUS    proportion of non-retail business acres per town\n",
      "        - CHAS     Charles River dummy variable (= 1 if tract bounds river; 0 otherwise)\n",
      "        - NOX      nitric oxides concentration (parts per 10 million)\n",
      "        - RM       average number of rooms per dwelling\n",
      "        - AGE      proportion of owner-occupied units built prior to 1940\n",
      "        - DIS      weighted distances to five Boston employment centres\n",
      "        - RAD      index of accessibility to radial highways\n",
      "        - TAX      full-value property-tax rate per $10,000\n",
      "        - PTRATIO  pupil-teacher ratio by town\n",
      "        - B        1000(Bk - 0.63)^2 where Bk is the proportion of blacks by town\n",
      "        - LSTAT    % lower status of the population\n",
      "        - MEDV     Median value of owner-occupied homes in $1000's\n",
      "\n",
      "    :Missing Attribute Values: None\n",
      "\n",
      "    :Creator: Harrison, D. and Rubinfeld, D.L.\n",
      "\n",
      "This is a copy of UCI ML housing dataset.\n",
      "http://archive.ics.uci.edu/ml/datasets/Housing\n",
      "\n",
      "\n",
      "This dataset was taken from the StatLib library which is maintained at Carnegie Mellon University.\n",
      "\n",
      "The Boston house-price data of Harrison, D. and Rubinfeld, D.L. 'Hedonic\n",
      "prices and the demand for clean air', J. Environ. Economics & Management,\n",
      "vol.5, 81-102, 1978.   Used in Belsley, Kuh & Welsch, 'Regression diagnostics\n",
      "...', Wiley, 1980.   N.B. Various transformations are used in the table on\n",
      "pages 244-261 of the latter.\n",
      "\n",
      "The Boston house-price data has been used in many machine learning papers that address regression\n",
      "problems.   \n",
      "     \n",
      "**References**\n",
      "\n",
      "   - Belsley, Kuh & Welsch, 'Regression diagnostics: Identifying Influential Data and Sources of Collinearity', Wiley, 1980. 244-261.\n",
      "   - Quinlan,R. (1993). Combining Instance-Based and Model-Based Learning. In Proceedings on the Tenth International Conference of Machine Learning, 236-243, University of Massachusetts, Amherst. Morgan Kaufmann.\n",
      "   - many more! (see http://archive.ics.uci.edu/ml/datasets/Housing)\n",
      "\n"
     ]
    }
   ],
   "source": [
    "print(boston.DESCR)"
   ]
  },
  {
   "cell_type": "markdown",
   "metadata": {},
   "source": [
    "### Explore the dataset\n",
    "* GOAL: Predict median house price in thousands of dollars (float) based on several features \n",
    "* Target is the value of the house that we want to predict\n",
    "* Split the data into TRAIN and TEST sets"
   ]
  },
  {
   "cell_type": "code",
   "execution_count": 4,
   "metadata": {},
   "outputs": [
    {
     "data": {
      "text/plain": [
       "(506, 13)"
      ]
     },
     "execution_count": 4,
     "metadata": {},
     "output_type": "execute_result"
    }
   ],
   "source": [
    "boston.data.shape"
   ]
  },
  {
   "cell_type": "code",
   "execution_count": 5,
   "metadata": {},
   "outputs": [
    {
     "data": {
      "text/plain": [
       "(506,)"
      ]
     },
     "execution_count": 5,
     "metadata": {},
     "output_type": "execute_result"
    }
   ],
   "source": [
    "boston.target.shape"
   ]
  },
  {
   "cell_type": "code",
   "execution_count": 8,
   "metadata": {},
   "outputs": [],
   "source": [
    "from sklearn.model_selection import train_test_split\n",
    "X_train, X_test, y_train, y_test = train_test_split(boston.data, boston.target)"
   ]
  },
  {
   "cell_type": "markdown",
   "metadata": {},
   "source": [
    "### Build Regression Model: \"Learning a Regressor\"\n",
    "* Data features (X) are used to predict target outcomes of interest (y)\n",
    "* Estimated regression coefficients and intercept are stored in ridge object"
   ]
  },
  {
   "cell_type": "code",
   "execution_count": 9,
   "metadata": {
    "collapsed": true
   },
   "outputs": [],
   "source": [
    "from sklearn.linear_model import Ridge\n",
    "ridge = Ridge()"
   ]
  },
  {
   "cell_type": "markdown",
   "metadata": {},
   "source": [
    "#### 1) Fit model to TEST data"
   ]
  },
  {
   "cell_type": "code",
   "execution_count": 10,
   "metadata": {},
   "outputs": [
    {
     "data": {
      "text/plain": [
       "Ridge(alpha=1.0, copy_X=True, fit_intercept=True, max_iter=None,\n",
       "   normalize=False, random_state=None, solver='auto', tol=0.001)"
      ]
     },
     "execution_count": 10,
     "metadata": {},
     "output_type": "execute_result"
    }
   ],
   "source": [
    "ridge.fit(X_train, y_train)"
   ]
  },
  {
   "cell_type": "markdown",
   "metadata": {},
   "source": [
    "#### 2) Predict new values from TEST set "
   ]
  },
  {
   "cell_type": "code",
   "execution_count": 11,
   "metadata": {},
   "outputs": [
    {
     "data": {
      "text/plain": [
       "array([ 12.89711632,  17.38897704,  16.74387154,  24.59529923,\n",
       "        27.92988296,  17.66465451,  13.09002963,  20.08072197,\n",
       "        32.37444434,  28.64756608,  26.0749564 ,  20.28064123,\n",
       "        16.6201264 ,  37.80213959,  32.18297883,  18.9703282 ,\n",
       "        39.68878315,  29.74987887,  13.0035633 ,  22.95532742,\n",
       "         1.52895515,  12.29735804,  27.76505738,  16.82578929,\n",
       "        20.30124444,  28.67984681,  17.51674701,  32.03347219,\n",
       "        30.52658488,  17.1320772 ,  34.51776459,  18.94472003,\n",
       "        26.11904486,  20.18398479,  21.83309189,  30.01006102,\n",
       "        17.29906086,  32.25939931,  21.51210914,  22.97437792,\n",
       "        25.4904392 ,  17.47162479,   9.72076232,  34.76220522,\n",
       "        30.30249674,  21.69511244,  19.40009935,  34.11796261,\n",
       "        44.13099447,  28.26473985,   2.45644762,  17.070151  ,\n",
       "        24.42947896,  36.36200056,  32.0450444 ,  11.12459781,\n",
       "        22.09628895,  20.22811984,  11.50619471,  27.6152111 ,\n",
       "        22.86580039,  25.18352666,  38.5159734 ,  15.86771074,\n",
       "        17.05832252,  21.18685755,  23.55835702,  33.48984751,\n",
       "         8.89977729,  26.65491832,  12.69408032,  18.99115028,\n",
       "        15.43458492,  33.95437866,  27.25377119,  20.87974769,\n",
       "        22.93106451,  28.18091948,  20.20438758,  28.47678137,\n",
       "        19.12204292,  21.61495558,  33.17858526,  14.84420323,\n",
       "        -1.48223441,  25.17324745,  19.04814367,  13.99690838,\n",
       "        24.75046791,  33.43216039,  15.71591975,  15.48002625,\n",
       "        24.62686112,  26.42165689,   5.63634188,  29.52897315,\n",
       "        28.85490882,  15.66001386,  41.71321657,  32.58050156,\n",
       "        28.15812426,  35.83293231,  30.96075261,  20.54488537,\n",
       "        32.60310307,  29.65581244,  12.59206051,  21.85925107,\n",
       "        24.57262152,  23.84955775,  32.76437375,  33.54569217,\n",
       "        21.21883303,  35.91365072,  21.65913509,  15.24487868,\n",
       "        27.72811604,  12.21175436,  39.87959748,  11.8840427 ,\n",
       "        16.34169232,  18.52286655,  27.69039674,  33.00349702,\n",
       "         4.62691372,   6.94381596,  31.08347453])"
      ]
     },
     "execution_count": 11,
     "metadata": {},
     "output_type": "execute_result"
    }
   ],
   "source": [
    "pred_test = ridge.predict(X_test)\n",
    "pred_test"
   ]
  },
  {
   "cell_type": "markdown",
   "metadata": {},
   "source": [
    "#### 3) Evaluate model using R2 score, calculate MSE"
   ]
  },
  {
   "cell_type": "code",
   "execution_count": 12,
   "metadata": {},
   "outputs": [
    {
     "data": {
      "text/plain": [
       "0.58268237456221206"
      ]
     },
     "execution_count": 12,
     "metadata": {},
     "output_type": "execute_result"
    }
   ],
   "source": [
    "ridge.score(X_test, y_test)"
   ]
  },
  {
   "cell_type": "code",
   "execution_count": 13,
   "metadata": {},
   "outputs": [
    {
     "data": {
      "text/plain": [
       "32.763835755759779"
      ]
     },
     "execution_count": 13,
     "metadata": {},
     "output_type": "execute_result"
    }
   ],
   "source": [
    "from sklearn.metrics import mean_squared_error\n",
    "mean_squared_error(y_test, pred_test)"
   ]
  },
  {
   "cell_type": "markdown",
   "metadata": {},
   "source": [
    "## Random Forests Regression\n",
    "* Import Random Forest Regressor model and instantiate it\n",
    "* Call fit function using the training data\n",
    "* Call predict function using the test data\n",
    "* Evaluate the model using R2 or MSE"
   ]
  },
  {
   "cell_type": "code",
   "execution_count": 25,
   "metadata": {},
   "outputs": [],
   "source": [
    "from sklearn.ensemble import RandomForestRegressor\n",
    "rf = RandomForestRegressor()"
   ]
  },
  {
   "cell_type": "code",
   "execution_count": 26,
   "metadata": {},
   "outputs": [
    {
     "data": {
      "text/plain": [
       "RandomForestRegressor(bootstrap=True, criterion='mse', max_depth=None,\n",
       "           max_features='auto', max_leaf_nodes=None,\n",
       "           min_impurity_split=1e-07, min_samples_leaf=1,\n",
       "           min_samples_split=2, min_weight_fraction_leaf=0.0,\n",
       "           n_estimators=10, n_jobs=1, oob_score=False, random_state=None,\n",
       "           verbose=0, warm_start=False)"
      ]
     },
     "execution_count": 26,
     "metadata": {},
     "output_type": "execute_result"
    }
   ],
   "source": [
    "rf.fit(X_train, y_train)"
   ]
  },
  {
   "cell_type": "code",
   "execution_count": 29,
   "metadata": {},
   "outputs": [
    {
     "data": {
      "text/plain": [
       "array([ 31.9 ,  18.94,  10.96,  25.02,  44.68,  37.26,  19.1 ,  19.45,\n",
       "        18.04,  26.17,  21.93,  18.5 ,  21.36,   8.02,  17.32,  15.54,\n",
       "        23.79,  23.63,  15.11,  16.97,   9.71,  20.71,  22.49,  23.85,\n",
       "        25.28,  11.61,  14.  ,  19.64,  46.1 ,  20.21,  13.47,  15.1 ,\n",
       "        12.62,  20.64,  19.72,  34.57,  43.14,  14.46,  23.41,  20.84,\n",
       "        17.77,  21.08,  20.77,  22.73,  26.04,  18.03,  15.43,  21.76,\n",
       "        22.15,  18.58,  14.16,  13.81,  20.44,  45.51,  19.57,  20.78,\n",
       "        20.32,  13.68,  16.2 ,  19.97,  31.35,  34.98,  15.65,  19.07,\n",
       "        15.81,  20.46,  27.99,  16.42,  45.39,  20.98,  20.07,  20.66,\n",
       "        31.  ,  29.66,   8.66,  19.71,  21.31,  18.97,  15.31,  11.47,\n",
       "        22.06,  22.28,  25.73,  27.77,  22.59,  21.69,  28.33,  12.79,\n",
       "        23.47,  25.53,  45.92,  19.54,   9.72,  20.51,  19.66,  28.74,\n",
       "        29.39,  27.83,  25.92,  14.96,  20.7 ,  15.51,  24.67,  23.78,\n",
       "        25.13,  18.71,  22.95,  19.93,  20.48,  16.51,  19.65,  32.62,\n",
       "        14.11,  23.83,   9.6 ,   8.24,  21.19,   8.37,  22.89,  10.92,\n",
       "        22.54,  41.49,  21.43,  12.98,  23.37,  30.32,  10.52])"
      ]
     },
     "execution_count": 29,
     "metadata": {},
     "output_type": "execute_result"
    }
   ],
   "source": [
    "rf.predict(X_test)"
   ]
  },
  {
   "cell_type": "code",
   "execution_count": 30,
   "metadata": {},
   "outputs": [
    {
     "data": {
      "text/plain": [
       "0.86704967526132126"
      ]
     },
     "execution_count": 30,
     "metadata": {},
     "output_type": "execute_result"
    }
   ],
   "source": [
    "rf.score(X_test, y_test)"
   ]
  },
  {
   "cell_type": "code",
   "execution_count": 31,
   "metadata": {},
   "outputs": [
    {
     "data": {
      "text/plain": [
       "9.2267503937007849"
      ]
     },
     "execution_count": 31,
     "metadata": {},
     "output_type": "execute_result"
    }
   ],
   "source": [
    "mean_squared_error(y_test, rf.predict(X_test))"
   ]
  },
  {
   "cell_type": "code",
   "execution_count": null,
   "metadata": {
    "collapsed": true
   },
   "outputs": [],
   "source": []
  }
 ],
 "metadata": {
  "kernelspec": {
   "display_name": "Python 3",
   "language": "python",
   "name": "python3"
  },
  "language_info": {
   "codemirror_mode": {
    "name": "ipython",
    "version": 3
   },
   "file_extension": ".py",
   "mimetype": "text/x-python",
   "name": "python",
   "nbconvert_exporter": "python",
   "pygments_lexer": "ipython3",
   "version": "3.6.1"
  }
 },
 "nbformat": 4,
 "nbformat_minor": 2
}
