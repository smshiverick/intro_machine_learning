{
 "cells": [
  {
   "cell_type": "markdown",
   "metadata": {},
   "source": [
    "## Advanced Machine Learning - Scikit Learn \n",
    "### with Adreas Mueller\n",
    "\n",
    "### API Review\n",
    "* How to use supervised and unsupervised models\n",
    "* Building a classifier model\n",
    "* The model is built using 'fit' method, applied with 'predict' method, evaluated using 'score' method\n",
    "\n",
    "## Classification"
   ]
  },
  {
   "cell_type": "code",
   "execution_count": 1,
   "metadata": {
    "collapsed": true
   },
   "outputs": [],
   "source": [
    "import matplotlib.pyplot as plt\n",
    "import numpy as np\n",
    "%matplotlib inline"
   ]
  },
  {
   "cell_type": "markdown",
   "metadata": {},
   "source": [
    "#### Load data to work with and explore:\n",
    "* Digits object is returned as 'bunch' object, similar to dictionary\n",
    "* Bunch objects are used to store datasets in sklearn's datasets module\n",
    "* Convenient way to bundle some numpy arrays\n",
    "* The bunch contains images, data, and target "
   ]
  },
  {
   "cell_type": "code",
   "execution_count": 2,
   "metadata": {},
   "outputs": [
    {
     "data": {
      "text/plain": [
       "dict_keys(['data', 'target', 'target_names', 'images', 'DESCR'])"
      ]
     },
     "execution_count": 2,
     "metadata": {},
     "output_type": "execute_result"
    }
   ],
   "source": [
    "from sklearn.datasets import load_digits\n",
    "digits = load_digits()\n",
    "digits.keys()"
   ]
  },
  {
   "cell_type": "markdown",
   "metadata": {},
   "source": [
    "### Digits object\n",
    "* 1797 greyscale images of handwritten digits\n",
    "* Very low resoluation of 8 x 8 pixels\n",
    "* Look at first image by indexing the first image array"
   ]
  },
  {
   "cell_type": "code",
   "execution_count": 3,
   "metadata": {},
   "outputs": [
    {
     "data": {
      "text/plain": [
       "(1797, 8, 8)"
      ]
     },
     "execution_count": 3,
     "metadata": {},
     "output_type": "execute_result"
    }
   ],
   "source": [
    "digits.images.shape"
   ]
  },
  {
   "cell_type": "code",
   "execution_count": 4,
   "metadata": {},
   "outputs": [
    {
     "data": {
      "text/plain": [
       "array([[  0.,   0.,   5.,  13.,   9.,   1.,   0.,   0.],\n",
       "       [  0.,   0.,  13.,  15.,  10.,  15.,   5.,   0.],\n",
       "       [  0.,   3.,  15.,   2.,   0.,  11.,   8.,   0.],\n",
       "       [  0.,   4.,  12.,   0.,   0.,   8.,   8.,   0.],\n",
       "       [  0.,   5.,   8.,   0.,   0.,   9.,   8.,   0.],\n",
       "       [  0.,   4.,  11.,   0.,   1.,  12.,   7.,   0.],\n",
       "       [  0.,   2.,  14.,   5.,  10.,  12.,   0.,   0.],\n",
       "       [  0.,   0.,   6.,  13.,  10.,   0.,   0.,   0.]])"
      ]
     },
     "execution_count": 4,
     "metadata": {},
     "output_type": "execute_result"
    }
   ],
   "source": [
    "digits.images[0]"
   ]
  },
  {
   "cell_type": "markdown",
   "metadata": {},
   "source": [
    "### Plot the data\n",
    "* Using matplotlib function\n",
    "* See very low resolution conversion of a handwritten zero\n",
    "* This is classification dataset with ten classes, digits from 0 to 9\n",
    "* GOAL: Go from low resolution image to actual number that is drawn "
   ]
  },
  {
   "cell_type": "code",
   "execution_count": 5,
   "metadata": {},
   "outputs": [
    {
     "data": {
      "text/plain": [
       "<matplotlib.image.AxesImage at 0x117f62f60>"
      ]
     },
     "execution_count": 5,
     "metadata": {},
     "output_type": "execute_result"
    },
    {
     "data": {
      "image/png": "[encoded data removed]",
      "text/plain": [
       "<matplotlib.figure.Figure at 0x118215ef0>"
      ]
     },
     "metadata": {},
     "output_type": "display_data"
    }
   ],
   "source": [
    "plt.matshow(digits.images[0], cmap=plt.cm.Greys)"
   ]
  },
  {
   "cell_type": "markdown",
   "metadata": {},
   "source": [
    "### Dataset\n",
    "* Each image is a single row of 64 pixels in this 2D array\n",
    "* Also contains target class labels, info about which digit was drawn; \n",
    "* contained in digits the target, which is a 1D array, one entry for each image in dataset. \n"
   ]
  },
  {
   "cell_type": "code",
   "execution_count": 6,
   "metadata": {},
   "outputs": [
    {
     "data": {
      "text/plain": [
       "(1797, 64)"
      ]
     },
     "execution_count": 6,
     "metadata": {},
     "output_type": "execute_result"
    }
   ],
   "source": [
    "digits.data.shape"
   ]
  },
  {
   "cell_type": "code",
   "execution_count": 7,
   "metadata": {},
   "outputs": [
    {
     "data": {
      "text/plain": [
       "(1797,)"
      ]
     },
     "execution_count": 7,
     "metadata": {},
     "output_type": "execute_result"
    }
   ],
   "source": [
    "digits.target.shape"
   ]
  },
  {
   "cell_type": "code",
   "execution_count": 8,
   "metadata": {},
   "outputs": [
    {
     "data": {
      "text/plain": [
       "array([0, 1, 2, ..., 8, 9, 8])"
      ]
     },
     "execution_count": 8,
     "metadata": {},
     "output_type": "execute_result"
    }
   ],
   "source": [
    "digits.target"
   ]
  },
  {
   "cell_type": "markdown",
   "metadata": {},
   "source": [
    "### Data is always a numpy array (or sparse matrix) of shape (n_samples, n_features)\n",
    "* Call the data X and the target y\n",
    "* To start with, split data into TRAIN (75%) and TEST sets (25%)\n",
    "* Use the TRAIN set to build (i.e., \"FIT\") the model\n",
    "* Use the TEST set to evaluate its generalization performance"
   ]
  },
  {
   "cell_type": "code",
   "execution_count": 10,
   "metadata": {
    "collapsed": true
   },
   "outputs": [],
   "source": [
    "# Assign training data to X_train, and test data to X_test\n",
    "# and similarly for the target y\n",
    "\n",
    "from sklearn.model_selection import train_test_split\n",
    "X_train, X_test, y_train, y_test = train_test_split(digits.data, digits.target)"
   ]
  },
  {
   "cell_type": "markdown",
   "metadata": {},
   "source": [
    "### Really Simple API: Fit Train data, Predict Test data, Evaluate model accuracy\n",
    "Let's start by training a sklearn Classifier. All algorithms in sklearn are implemented in classes that contain the training procedures as well as the model. Say we want to use the Linear Support Vector Machine on the digits dataset. We first import the linear SVC class from the svm module that implements the linear support vector classifier. \n",
    "\n",
    "##### Import model class"
   ]
  },
  {
   "cell_type": "code",
   "execution_count": 11,
   "metadata": {
    "collapsed": true
   },
   "outputs": [],
   "source": [
    "from sklearn.svm import LinearSVC"
   ]
  },
  {
   "cell_type": "markdown",
   "metadata": {},
   "source": [
    "##### Instantiate an object (of that class) and set parameters"
   ]
  },
  {
   "cell_type": "code",
   "execution_count": 13,
   "metadata": {
    "collapsed": true
   },
   "outputs": [],
   "source": [
    "svm = LinearSVC(C=0.1)"
   ]
  },
  {
   "cell_type": "markdown",
   "metadata": {},
   "source": [
    "#### 1) Fit the model\n",
    "* Provide SVM model with the TRAIN data, and target labels\n",
    "* After calling the fit method, the model is trained, and coefficients are stored in svm object"
   ]
  },
  {
   "cell_type": "code",
   "execution_count": 18,
   "metadata": {},
   "outputs": [
    {
     "data": {
      "text/plain": [
       "LinearSVC(C=0.1, class_weight=None, dual=True, fit_intercept=True,\n",
       "     intercept_scaling=1, loss='squared_hinge', max_iter=1000,\n",
       "     multi_class='ovr', penalty='l2', random_state=None, tol=0.0001,\n",
       "     verbose=0)"
      ]
     },
     "execution_count": 18,
     "metadata": {},
     "output_type": "execute_result"
    }
   ],
   "source": [
    "svm.fit(X_train, y_train)"
   ]
  },
  {
   "cell_type": "markdown",
   "metadata": {},
   "source": [
    "##### Apply the model to training data\n",
    "* Now we apply the model to any data to make predictions\n",
    "* First, apply it to training data set, X_train\n",
    "* Prediction for classifier are made with predict method that returns a class label for each data point, compared here with the actual class labels (y_train)"
   ]
  },
  {
   "cell_type": "code",
   "execution_count": 19,
   "metadata": {},
   "outputs": [
    {
     "name": "stdout",
     "output_type": "stream",
     "text": [
      "[4 2 5 ..., 1 9 7]\n",
      "[4 2 5 ..., 1 9 7]\n"
     ]
    }
   ],
   "source": [
    "print(svm.predict(X_train))\n",
    "print(y_train)"
   ]
  },
  {
   "cell_type": "markdown",
   "metadata": {},
   "source": [
    "#### 3) Evaluate model accuracy using score method\n",
    "* Score method allows for quantitative evaluation of predition\n",
    "* Accuracy is the fraction of correctly predicted target labels for the samples\n",
    "* Indication of how well the model predict new data (i.e., \"unseen\") from the TEST set"
   ]
  },
  {
   "cell_type": "code",
   "execution_count": 20,
   "metadata": {},
   "outputs": [
    {
     "data": {
      "text/plain": [
       "0.99851521900519669"
      ]
     },
     "execution_count": 20,
     "metadata": {},
     "output_type": "execute_result"
    }
   ],
   "source": [
    "svm.score(X_train, y_train)"
   ]
  },
  {
   "cell_type": "code",
   "execution_count": 21,
   "metadata": {},
   "outputs": [
    {
     "data": {
      "text/plain": [
       "0.94666666666666666"
      ]
     },
     "execution_count": 21,
     "metadata": {},
     "output_type": "execute_result"
    }
   ],
   "source": [
    "svm.score(X_test, y_test)"
   ]
  },
  {
   "cell_type": "markdown",
   "metadata": {},
   "source": [
    "## Random Forest Classifier Model\n",
    "* All Classifiers use the same Fit, Predict, and Score methods\n",
    "* Import RandomTreeClassifier, instantiate object of the model, and set number of trees to 50\n",
    "* Set random_state to fixed integer seed, which allows for reproducible results"
   ]
  },
  {
   "cell_type": "code",
   "execution_count": 22,
   "metadata": {
    "collapsed": true
   },
   "outputs": [],
   "source": [
    "from sklearn.ensemble import RandomForestClassifier\n",
    "rf = RandomForestClassifier(n_estimators=50, random_state=1)"
   ]
  },
  {
   "cell_type": "markdown",
   "metadata": {},
   "source": [
    "#### 1) Build RF model using Fit method"
   ]
  },
  {
   "cell_type": "code",
   "execution_count": 23,
   "metadata": {},
   "outputs": [
    {
     "data": {
      "text/plain": [
       "RandomForestClassifier(bootstrap=True, class_weight=None, criterion='gini',\n",
       "            max_depth=None, max_features='auto', max_leaf_nodes=None,\n",
       "            min_impurity_split=1e-07, min_samples_leaf=1,\n",
       "            min_samples_split=2, min_weight_fraction_leaf=0.0,\n",
       "            n_estimators=50, n_jobs=1, oob_score=False, random_state=1,\n",
       "            verbose=0, warm_start=False)"
      ]
     },
     "execution_count": 23,
     "metadata": {},
     "output_type": "execute_result"
    }
   ],
   "source": [
    "rf.fit(X_train, y_train)"
   ]
  },
  {
   "cell_type": "markdown",
   "metadata": {},
   "source": [
    "#### 2) Predict new data based on RF model "
   ]
  },
  {
   "cell_type": "code",
   "execution_count": 24,
   "metadata": {},
   "outputs": [
    {
     "data": {
      "text/plain": [
       "array([1, 4, 8, 4, 4, 8, 9, 5, 9, 2, 2, 7, 5, 7, 6, 3, 1, 4, 9, 8, 1, 4, 4,\n",
       "       3, 8, 1, 3, 1, 0, 2, 6, 9, 8, 8, 3, 2, 5, 7, 5, 4, 4, 7, 7, 9, 2, 9,\n",
       "       8, 6, 0, 0, 2, 3, 6, 2, 5, 9, 3, 7, 7, 0, 2, 0, 2, 5, 0, 6, 8, 6, 1,\n",
       "       3, 1, 8, 2, 4, 5, 6, 7, 2, 1, 0, 3, 7, 4, 0, 0, 9, 4, 6, 3, 7, 6, 8,\n",
       "       8, 3, 5, 4, 3, 1, 5, 5, 7, 4, 8, 8, 5, 6, 1, 8, 7, 1, 1, 1, 5, 0, 4,\n",
       "       9, 7, 1, 0, 1, 1, 3, 0, 9, 7, 9, 2, 3, 7, 7, 3, 6, 1, 1, 4, 4, 6, 9,\n",
       "       6, 2, 8, 3, 8, 0, 7, 4, 5, 2, 3, 4, 1, 3, 1, 6, 2, 8, 3, 4, 0, 8, 9,\n",
       "       4, 9, 7, 4, 9, 6, 4, 7, 4, 8, 6, 2, 5, 9, 1, 7, 5, 4, 7, 0, 1, 1, 8,\n",
       "       8, 2, 9, 2, 7, 4, 4, 9, 2, 5, 5, 3, 2, 6, 9, 7, 9, 0, 9, 5, 5, 1, 0,\n",
       "       9, 7, 9, 6, 7, 0, 2, 3, 1, 8, 2, 2, 7, 3, 3, 1, 5, 8, 7, 4, 8, 0, 9,\n",
       "       9, 9, 6, 8, 8, 0, 5, 6, 3, 1, 8, 1, 1, 2, 6, 4, 3, 2, 7, 2, 6, 1, 9,\n",
       "       3, 6, 6, 8, 7, 1, 7, 6, 0, 7, 1, 2, 9, 8, 0, 0, 4, 5, 5, 3, 9, 6, 6,\n",
       "       6, 9, 2, 2, 1, 6, 3, 7, 4, 1, 1, 9, 5, 6, 6, 6, 7, 7, 8, 6, 5, 9, 9,\n",
       "       1, 7, 5, 2, 5, 8, 5, 6, 3, 8, 3, 4, 5, 0, 1, 0, 5, 2, 0, 0, 7, 7, 5,\n",
       "       0, 2, 3, 5, 5, 1, 6, 8, 0, 7, 5, 5, 4, 9, 6, 1, 3, 1, 9, 0, 7, 0, 9,\n",
       "       7, 9, 3, 4, 6, 1, 7, 9, 4, 3, 7, 3, 1, 1, 8, 1, 9, 5, 1, 7, 0, 5, 4,\n",
       "       5, 9, 6, 2, 5, 9, 6, 4, 4, 9, 1, 4, 3, 6, 2, 3, 4, 8, 6, 8, 6, 0, 6,\n",
       "       6, 5, 7, 4, 0, 8, 6, 5, 2, 7, 3, 8, 0, 1, 1, 6, 8, 9, 1, 3, 7, 1, 7,\n",
       "       5, 3, 9, 0, 6, 4, 9, 7, 8, 3, 6, 1, 0, 9, 7, 6, 0, 2, 3, 0, 1, 6, 4,\n",
       "       9, 4, 5, 1, 7, 6, 2, 1, 9, 0, 3, 2, 4])"
      ]
     },
     "execution_count": 24,
     "metadata": {},
     "output_type": "execute_result"
    }
   ],
   "source": [
    "rf.predict(X_test)"
   ]
  },
  {
   "cell_type": "markdown",
   "metadata": {},
   "source": [
    "#### 3) Evaluate model accuracy with Score method"
   ]
  },
  {
   "cell_type": "code",
   "execution_count": 25,
   "metadata": {},
   "outputs": [
    {
     "data": {
      "text/plain": [
       "0.97777777777777775"
      ]
     },
     "execution_count": 25,
     "metadata": {},
     "output_type": "execute_result"
    }
   ],
   "source": [
    "rf.score(X_test, y_test)"
   ]
  },
  {
   "cell_type": "markdown",
   "metadata": {},
   "source": [
    "## Classifier Comparison\n",
    "As each classifier can be indicated by a single line, it is very easy to compare different classsifiers using the same dataset. See the SciKit-Learn webpage for an example showing a comparison of a several classifiers in scikit-learn on synthetic datasets.\n",
    "http://scikit-learn.org/stable/auto_examples/classification/plot_classifier_comparison.html \n",
    "\n",
    "On the left side, we see three different toy datasets. Each plot shows a dataset with two features, one on the x-asix and one on the y-axis; every dot represents a single observation. There are two classes, red and blue. The lighter points are the training set, while the opaque points are the test set. \n",
    "\n",
    "The columns to the right show the various solutions obtained from classifiers in sklearn. \n",
    "\n",
    "The point of this example is to illustrate the nature of decision boundaries of different classifiers.\n",
    "This should be taken with a grain of salt, as the intuition conveyed by these examples does not necessarily carry over to real datasets.\n",
    "\n",
    "Particularly in high-dimensional spaces, data can more easily be separated linearly and the simplicity of classifiers such as naive Bayes and linear SVMs might lead to better generalization than is achieved by other classifiers.\n",
    "\n",
    "The plots show training points in solid colors and testing points semi-transparent. The lower right shows the classification accuracy on the test set."
   ]
  },
  {
   "cell_type": "markdown",
   "metadata": {},
   "source": [
    "## Labels Can Be Anything\n",
    "Final note on the sklearn classifier interface, it is not necessary to encode classes as integers; you can use arbitrary python objects, e.g., 'strings'. Often, it is much more natural to encode classes as string names instead of using integers. \n",
    "\n",
    "Below, string names are given to classes in the digit dataset instead of numbers, just by writing out the numbers. Then we map training labels on y_train to the strings using the numbers array, and then Fit an svm to the data using the string labels. \n",
    "\n",
    "Now, call predict on the TEST set, and we see the predictions are actually strings, not integers. Which is often helpful as we don't have to keep the connection between classes and integers.  "
   ]
  },
  {
   "cell_type": "code",
   "execution_count": 26,
   "metadata": {
    "collapsed": true
   },
   "outputs": [],
   "source": [
    "numbers = np.array([\"zero\", \"one\", \"two\", \"three\", \"four\", \"five\", \"six\", \"seven\", \"eight\", \"nine\"])"
   ]
  },
  {
   "cell_type": "code",
   "execution_count": 27,
   "metadata": {},
   "outputs": [
    {
     "data": {
      "text/plain": [
       "LinearSVC(C=0.1, class_weight=None, dual=True, fit_intercept=True,\n",
       "     intercept_scaling=1, loss='squared_hinge', max_iter=1000,\n",
       "     multi_class='ovr', penalty='l2', random_state=None, tol=0.0001,\n",
       "     verbose=0)"
      ]
     },
     "execution_count": 27,
     "metadata": {},
     "output_type": "execute_result"
    }
   ],
   "source": [
    "y_train_string = numbers[y_train]\n",
    "svm.fit(X_train, y_train_string)"
   ]
  },
  {
   "cell_type": "code",
   "execution_count": 28,
   "metadata": {},
   "outputs": [
    {
     "data": {
      "text/plain": [
       "array(['three', 'four', 'eight', 'four', 'four', 'eight', 'nine', 'five',\n",
       "       'nine', 'two', 'two', 'seven', 'five', 'seven', 'six', 'three',\n",
       "       'one', 'four', 'nine', 'eight', 'one', 'four', 'four', 'three',\n",
       "       'eight', 'eight', 'nine', 'six', 'zero', 'two', 'six', 'nine',\n",
       "       'eight', 'eight', 'three', 'two', 'five', 'seven', 'five', 'four',\n",
       "       'four', 'seven', 'seven', 'nine', 'two', 'nine', 'eight', 'six',\n",
       "       'zero', 'zero', 'two', 'three', 'six', 'two', 'five', 'nine',\n",
       "       'three', 'seven', 'nine', 'zero', 'two', 'zero', 'two', 'five',\n",
       "       'zero', 'six', 'eight', 'six', 'one', 'three', 'one', 'eight',\n",
       "       'two', 'four', 'five', 'six', 'seven', 'two', 'one', 'zero',\n",
       "       'three', 'seven', 'four', 'zero', 'zero', 'nine', 'four', 'six',\n",
       "       'three', 'seven', 'six', 'eight', 'eight', 'three', 'five', 'four',\n",
       "       'three', 'one', 'five', 'five', 'seven', 'four', 'eight', 'eight',\n",
       "       'five', 'six', 'one', 'eight', 'seven', 'one', 'one', 'one', 'five',\n",
       "       'zero', 'four', 'nine', 'seven', 'one', 'zero', 'one', 'one',\n",
       "       'three', 'zero', 'nine', 'seven', 'nine', 'two', 'three', 'seven',\n",
       "       'seven', 'three', 'six', 'one', 'eight', 'four', 'seven', 'six',\n",
       "       'nine', 'six', 'two', 'eight', 'three', 'eight', 'zero', 'seven',\n",
       "       'four', 'five', 'two', 'three', 'four', 'one', 'three', 'one',\n",
       "       'six', 'two', 'eight', 'three', 'four', 'zero', 'eight', 'zero',\n",
       "       'four', 'nine', 'seven', 'four', 'nine', 'six', 'four', 'seven',\n",
       "       'four', 'eight', 'six', 'two', 'five', 'nine', 'one', 'seven',\n",
       "       'five', 'four', 'seven', 'zero', 'one', 'one', 'eight', 'eight',\n",
       "       'two', 'nine', 'two', 'eight', 'four', 'four', 'nine', 'two',\n",
       "       'five', 'five', 'three', 'two', 'six', 'seven', 'seven', 'nine',\n",
       "       'zero', 'nine', 'five', 'five', 'one', 'zero', 'nine', 'three',\n",
       "       'nine', 'six', 'seven', 'zero', 'two', 'three', 'one', 'eight',\n",
       "       'one', 'two', 'seven', 'eight', 'three', 'one', 'five', 'eight',\n",
       "       'seven', 'four', 'eight', 'zero', 'nine', 'nine', 'nine', 'six',\n",
       "       'eight', 'eight', 'zero', 'five', 'six', 'three', 'one', 'eight',\n",
       "       'one', 'one', 'two', 'six', 'four', 'nine', 'two', 'seven', 'two',\n",
       "       'six', 'one', 'nine', 'three', 'six', 'six', 'eight', 'seven',\n",
       "       'one', 'seven', 'six', 'zero', 'seven', 'one', 'two', 'nine',\n",
       "       'eight', 'zero', 'zero', 'four', 'five', 'five', 'three', 'nine',\n",
       "       'six', 'six', 'six', 'nine', 'two', 'two', 'one', 'six', 'three',\n",
       "       'one', 'four', 'one', 'one', 'nine', 'five', 'six', 'six', 'six',\n",
       "       'seven', 'seven', 'one', 'six', 'five', 'nine', 'nine', 'one',\n",
       "       'seven', 'five', 'two', 'five', 'eight', 'five', 'six', 'three',\n",
       "       'eight', 'three', 'four', 'five', 'zero', 'one', 'zero', 'eight',\n",
       "       'two', 'zero', 'zero', 'seven', 'seven', 'five', 'zero', 'two',\n",
       "       'three', 'five', 'five', 'one', 'six', 'eight', 'zero', 'seven',\n",
       "       'five', 'five', 'four', 'nine', 'six', 'four', 'three', 'one',\n",
       "       'nine', 'zero', 'seven', 'zero', 'nine', 'seven', 'nine', 'three',\n",
       "       'four', 'six', 'one', 'seven', 'nine', 'four', 'three', 'seven',\n",
       "       'three', 'one', 'one', 'eight', 'one', 'nine', 'five', 'one',\n",
       "       'seven', 'zero', 'five', 'four', 'five', 'nine', 'six', 'two',\n",
       "       'five', 'nine', 'six', 'four', 'four', 'nine', 'one', 'four',\n",
       "       'three', 'six', 'two', 'three', 'four', 'eight', 'six', 'eight',\n",
       "       'six', 'zero', 'six', 'six', 'five', 'seven', 'four', 'zero', 'one',\n",
       "       'six', 'five', 'two', 'seven', 'three', 'eight', 'zero', 'one',\n",
       "       'one', 'six', 'eight', 'nine', 'one', 'three', 'seven', 'one',\n",
       "       'seven', 'five', 'three', 'nine', 'zero', 'six', 'four', 'seven',\n",
       "       'seven', 'eight', 'three', 'six', 'one', 'zero', 'eight', 'seven',\n",
       "       'six', 'zero', 'two', 'three', 'zero', 'one', 'six', 'four', 'nine',\n",
       "       'four', 'five', 'one', 'seven', 'six', 'two', 'one', 'nine', 'zero',\n",
       "       'five', 'two', 'four'], \n",
       "      dtype='<U5')"
      ]
     },
     "execution_count": 28,
     "metadata": {},
     "output_type": "execute_result"
    }
   ],
   "source": [
    "svm.predict(X_test)"
   ]
  },
  {
   "cell_type": "code",
   "execution_count": null,
   "metadata": {
    "collapsed": true
   },
   "outputs": [],
   "source": []
  },
  {
   "cell_type": "code",
   "execution_count": null,
   "metadata": {
    "collapsed": true
   },
   "outputs": [],
   "source": []
  }
 ],
 "metadata": {
  "kernelspec": {
   "display_name": "Python 3",
   "language": "python",
   "name": "python3"
  },
  "language_info": {
   "codemirror_mode": {
    "name": "ipython",
    "version": 3
   },
   "file_extension": ".py",
   "mimetype": "text/x-python",
   "name": "python",
   "nbconvert_exporter": "python",
   "pygments_lexer": "ipython3",
   "version": "3.6.1"
  }
 },
 "nbformat": 4,
 "nbformat_minor": 2
}
